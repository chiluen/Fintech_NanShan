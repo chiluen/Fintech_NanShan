{
 "cells": [
  {
   "cell_type": "code",
   "execution_count": 1,
   "metadata": {},
   "outputs": [
    {
     "name": "stderr",
     "output_type": "stream",
     "text": [
      "C:\\ProgramData\\Anaconda3\\lib\\site-packages\\numpy\\core\\__init__.py:29: UserWarning: loaded more than 1 DLL from .libs:\n",
      "C:\\ProgramData\\Anaconda3\\lib\\site-packages\\numpy\\.libs\\libopenblas.IPBC74C7KURV7CB2PKT5Z5FNR3SIBV4J.gfortran-win_amd64.dll\n",
      "C:\\ProgramData\\Anaconda3\\lib\\site-packages\\numpy\\.libs\\libopenblas.TXA6YQSD3GCQQC22GEQ54J2UDCXDXHWN.gfortran-win_amd64.dll\n",
      "  stacklevel=1)\n"
     ]
    }
   ],
   "source": [
    "from sklearn.ensemble import RandomForestClassifier\n",
    "from sklearn import datasets\n",
    "from sklearn.model_selection import train_test_split\n",
    "import matplotlib.pyplot as plt\n",
    "import urllib\n",
    "import sklearn\n",
    "import matplotlib.pyplot as plt\n",
    "import sys\n",
    "import seaborn as sns\n",
    "import numpy as np\n",
    "import pandas as pd\n",
    "from pandas import value_counts as pdc\n",
    "from sklearn import metrics\n",
    "from sklearn.metrics import accuracy_score\n",
    "from sklearn.model_selection import GridSearchCV\n",
    "from scipy.sparse import coo_matrix\n",
    "from sklearn.utils import resample\n",
    "%matplotlib inline"
   ]
  },
  {
   "cell_type": "code",
   "execution_count": 2,
   "metadata": {},
   "outputs": [],
   "source": [
    "fintec = pd.read_csv('./fintec_train_data_set_alldata.csv')"
   ]
  },
  {
   "cell_type": "code",
   "execution_count": 3,
   "metadata": {},
   "outputs": [
    {
     "data": {
      "text/html": [
       "<div>\n",
       "<style scoped>\n",
       "    .dataframe tbody tr th:only-of-type {\n",
       "        vertical-align: middle;\n",
       "    }\n",
       "\n",
       "    .dataframe tbody tr th {\n",
       "        vertical-align: top;\n",
       "    }\n",
       "\n",
       "    .dataframe thead th {\n",
       "        text-align: right;\n",
       "    }\n",
       "</style>\n",
       "<table border=\"1\" class=\"dataframe\">\n",
       "  <thead>\n",
       "    <tr style=\"text-align: right;\">\n",
       "      <th></th>\n",
       "      <th>REPURCHASE</th>\n",
       "      <th>DiagnosisCode_DESC</th>\n",
       "      <th>age  &lt;25(300)</th>\n",
       "      <th>age  25-35(300-420)</th>\n",
       "      <th>age 35-45(420-540)</th>\n",
       "      <th>ICD10_Code_Type</th>\n",
       "      <th>ternure_m</th>\n",
       "      <th>recency_m</th>\n",
       "      <th>SIN</th>\n",
       "      <th>SIN_his</th>\n",
       "      <th>...</th>\n",
       "      <th>GENDER</th>\n",
       "      <th>stick_level2</th>\n",
       "      <th>AGE</th>\n",
       "      <th>cust_group2</th>\n",
       "      <th>&lt;10k</th>\n",
       "      <th>10k-50k</th>\n",
       "      <th>50k-100k</th>\n",
       "      <th>100k-500k</th>\n",
       "      <th>500k-1000k</th>\n",
       "      <th>&gt;1000k</th>\n",
       "    </tr>\n",
       "  </thead>\n",
       "  <tbody>\n",
       "    <tr>\n",
       "      <th>0</th>\n",
       "      <td>0</td>\n",
       "      <td>7</td>\n",
       "      <td>1</td>\n",
       "      <td>0</td>\n",
       "      <td>0</td>\n",
       "      <td>4</td>\n",
       "      <td>200</td>\n",
       "      <td>18</td>\n",
       "      <td>1</td>\n",
       "      <td>1</td>\n",
       "      <td>...</td>\n",
       "      <td>0</td>\n",
       "      <td>5</td>\n",
       "      <td>1</td>\n",
       "      <td>76</td>\n",
       "      <td>0</td>\n",
       "      <td>1</td>\n",
       "      <td>0</td>\n",
       "      <td>0</td>\n",
       "      <td>0</td>\n",
       "      <td>0</td>\n",
       "    </tr>\n",
       "    <tr>\n",
       "      <th>1</th>\n",
       "      <td>0</td>\n",
       "      <td>20</td>\n",
       "      <td>1</td>\n",
       "      <td>0</td>\n",
       "      <td>0</td>\n",
       "      <td>26</td>\n",
       "      <td>70</td>\n",
       "      <td>70</td>\n",
       "      <td>0</td>\n",
       "      <td>0</td>\n",
       "      <td>...</td>\n",
       "      <td>0</td>\n",
       "      <td>8</td>\n",
       "      <td>4</td>\n",
       "      <td>71</td>\n",
       "      <td>1</td>\n",
       "      <td>0</td>\n",
       "      <td>0</td>\n",
       "      <td>0</td>\n",
       "      <td>0</td>\n",
       "      <td>0</td>\n",
       "    </tr>\n",
       "    <tr>\n",
       "      <th>2</th>\n",
       "      <td>0</td>\n",
       "      <td>20</td>\n",
       "      <td>1</td>\n",
       "      <td>0</td>\n",
       "      <td>0</td>\n",
       "      <td>26</td>\n",
       "      <td>282</td>\n",
       "      <td>269</td>\n",
       "      <td>0</td>\n",
       "      <td>0</td>\n",
       "      <td>...</td>\n",
       "      <td>0</td>\n",
       "      <td>10</td>\n",
       "      <td>4</td>\n",
       "      <td>69</td>\n",
       "      <td>1</td>\n",
       "      <td>0</td>\n",
       "      <td>0</td>\n",
       "      <td>0</td>\n",
       "      <td>0</td>\n",
       "      <td>0</td>\n",
       "    </tr>\n",
       "    <tr>\n",
       "      <th>3</th>\n",
       "      <td>0</td>\n",
       "      <td>20</td>\n",
       "      <td>0</td>\n",
       "      <td>0</td>\n",
       "      <td>1</td>\n",
       "      <td>26</td>\n",
       "      <td>490</td>\n",
       "      <td>237</td>\n",
       "      <td>0</td>\n",
       "      <td>0</td>\n",
       "      <td>...</td>\n",
       "      <td>0</td>\n",
       "      <td>10</td>\n",
       "      <td>4</td>\n",
       "      <td>73</td>\n",
       "      <td>0</td>\n",
       "      <td>1</td>\n",
       "      <td>0</td>\n",
       "      <td>0</td>\n",
       "      <td>0</td>\n",
       "      <td>0</td>\n",
       "    </tr>\n",
       "    <tr>\n",
       "      <th>4</th>\n",
       "      <td>0</td>\n",
       "      <td>9</td>\n",
       "      <td>1</td>\n",
       "      <td>0</td>\n",
       "      <td>0</td>\n",
       "      <td>4</td>\n",
       "      <td>191</td>\n",
       "      <td>119</td>\n",
       "      <td>0</td>\n",
       "      <td>0</td>\n",
       "      <td>...</td>\n",
       "      <td>0</td>\n",
       "      <td>10</td>\n",
       "      <td>4</td>\n",
       "      <td>67</td>\n",
       "      <td>0</td>\n",
       "      <td>0</td>\n",
       "      <td>1</td>\n",
       "      <td>0</td>\n",
       "      <td>0</td>\n",
       "      <td>0</td>\n",
       "    </tr>\n",
       "    <tr>\n",
       "      <th>...</th>\n",
       "      <td>...</td>\n",
       "      <td>...</td>\n",
       "      <td>...</td>\n",
       "      <td>...</td>\n",
       "      <td>...</td>\n",
       "      <td>...</td>\n",
       "      <td>...</td>\n",
       "      <td>...</td>\n",
       "      <td>...</td>\n",
       "      <td>...</td>\n",
       "      <td>...</td>\n",
       "      <td>...</td>\n",
       "      <td>...</td>\n",
       "      <td>...</td>\n",
       "      <td>...</td>\n",
       "      <td>...</td>\n",
       "      <td>...</td>\n",
       "      <td>...</td>\n",
       "      <td>...</td>\n",
       "      <td>...</td>\n",
       "      <td>...</td>\n",
       "    </tr>\n",
       "    <tr>\n",
       "      <th>95403</th>\n",
       "      <td>1</td>\n",
       "      <td>2</td>\n",
       "      <td>0</td>\n",
       "      <td>1</td>\n",
       "      <td>0</td>\n",
       "      <td>20</td>\n",
       "      <td>343</td>\n",
       "      <td>120</td>\n",
       "      <td>0</td>\n",
       "      <td>0</td>\n",
       "      <td>...</td>\n",
       "      <td>1</td>\n",
       "      <td>9</td>\n",
       "      <td>4</td>\n",
       "      <td>57</td>\n",
       "      <td>0</td>\n",
       "      <td>0</td>\n",
       "      <td>0</td>\n",
       "      <td>1</td>\n",
       "      <td>0</td>\n",
       "      <td>0</td>\n",
       "    </tr>\n",
       "    <tr>\n",
       "      <th>95404</th>\n",
       "      <td>0</td>\n",
       "      <td>20</td>\n",
       "      <td>0</td>\n",
       "      <td>1</td>\n",
       "      <td>0</td>\n",
       "      <td>26</td>\n",
       "      <td>321</td>\n",
       "      <td>201</td>\n",
       "      <td>0</td>\n",
       "      <td>0</td>\n",
       "      <td>...</td>\n",
       "      <td>1</td>\n",
       "      <td>9</td>\n",
       "      <td>4</td>\n",
       "      <td>53</td>\n",
       "      <td>1</td>\n",
       "      <td>0</td>\n",
       "      <td>0</td>\n",
       "      <td>0</td>\n",
       "      <td>0</td>\n",
       "      <td>0</td>\n",
       "    </tr>\n",
       "    <tr>\n",
       "      <th>95405</th>\n",
       "      <td>0</td>\n",
       "      <td>20</td>\n",
       "      <td>1</td>\n",
       "      <td>0</td>\n",
       "      <td>0</td>\n",
       "      <td>26</td>\n",
       "      <td>263</td>\n",
       "      <td>240</td>\n",
       "      <td>0</td>\n",
       "      <td>0</td>\n",
       "      <td>...</td>\n",
       "      <td>1</td>\n",
       "      <td>9</td>\n",
       "      <td>4</td>\n",
       "      <td>54</td>\n",
       "      <td>0</td>\n",
       "      <td>1</td>\n",
       "      <td>0</td>\n",
       "      <td>0</td>\n",
       "      <td>0</td>\n",
       "      <td>0</td>\n",
       "    </tr>\n",
       "    <tr>\n",
       "      <th>95406</th>\n",
       "      <td>1</td>\n",
       "      <td>2</td>\n",
       "      <td>0</td>\n",
       "      <td>1</td>\n",
       "      <td>0</td>\n",
       "      <td>20</td>\n",
       "      <td>317</td>\n",
       "      <td>282</td>\n",
       "      <td>0</td>\n",
       "      <td>0</td>\n",
       "      <td>...</td>\n",
       "      <td>0</td>\n",
       "      <td>10</td>\n",
       "      <td>4</td>\n",
       "      <td>56</td>\n",
       "      <td>0</td>\n",
       "      <td>1</td>\n",
       "      <td>0</td>\n",
       "      <td>0</td>\n",
       "      <td>0</td>\n",
       "      <td>0</td>\n",
       "    </tr>\n",
       "    <tr>\n",
       "      <th>95407</th>\n",
       "      <td>0</td>\n",
       "      <td>9</td>\n",
       "      <td>1</td>\n",
       "      <td>0</td>\n",
       "      <td>0</td>\n",
       "      <td>4</td>\n",
       "      <td>297</td>\n",
       "      <td>68</td>\n",
       "      <td>0</td>\n",
       "      <td>0</td>\n",
       "      <td>...</td>\n",
       "      <td>1</td>\n",
       "      <td>7</td>\n",
       "      <td>4</td>\n",
       "      <td>59</td>\n",
       "      <td>0</td>\n",
       "      <td>1</td>\n",
       "      <td>0</td>\n",
       "      <td>0</td>\n",
       "      <td>0</td>\n",
       "      <td>0</td>\n",
       "    </tr>\n",
       "  </tbody>\n",
       "</table>\n",
       "<p>95408 rows × 36 columns</p>\n",
       "</div>"
      ],
      "text/plain": [
       "       REPURCHASE  DiagnosisCode_DESC  age  <25(300)  age  25-35(300-420)  \\\n",
       "0               0                   7              1                    0   \n",
       "1               0                  20              1                    0   \n",
       "2               0                  20              1                    0   \n",
       "3               0                  20              0                    0   \n",
       "4               0                   9              1                    0   \n",
       "...           ...                 ...            ...                  ...   \n",
       "95403           1                   2              0                    1   \n",
       "95404           0                  20              0                    1   \n",
       "95405           0                  20              1                    0   \n",
       "95406           1                   2              0                    1   \n",
       "95407           0                   9              1                    0   \n",
       "\n",
       "       age 35-45(420-540)  ICD10_Code_Type  ternure_m  recency_m  SIN  \\\n",
       "0                       0                4        200         18    1   \n",
       "1                       0               26         70         70    0   \n",
       "2                       0               26        282        269    0   \n",
       "3                       1               26        490        237    0   \n",
       "4                       0                4        191        119    0   \n",
       "...                   ...              ...        ...        ...  ...   \n",
       "95403                   0               20        343        120    0   \n",
       "95404                   0               26        321        201    0   \n",
       "95405                   0               26        263        240    0   \n",
       "95406                   0               20        317        282    0   \n",
       "95407                   0                4        297         68    0   \n",
       "\n",
       "       SIN_his  ...  GENDER  stick_level2  AGE  cust_group2  <10k  10k-50k  \\\n",
       "0            1  ...       0             5    1           76     0        1   \n",
       "1            0  ...       0             8    4           71     1        0   \n",
       "2            0  ...       0            10    4           69     1        0   \n",
       "3            0  ...       0            10    4           73     0        1   \n",
       "4            0  ...       0            10    4           67     0        0   \n",
       "...        ...  ...     ...           ...  ...          ...   ...      ...   \n",
       "95403        0  ...       1             9    4           57     0        0   \n",
       "95404        0  ...       1             9    4           53     1        0   \n",
       "95405        0  ...       1             9    4           54     0        1   \n",
       "95406        0  ...       0            10    4           56     0        1   \n",
       "95407        0  ...       1             7    4           59     0        1   \n",
       "\n",
       "       50k-100k  100k-500k  500k-1000k  >1000k  \n",
       "0             0          0           0       0  \n",
       "1             0          0           0       0  \n",
       "2             0          0           0       0  \n",
       "3             0          0           0       0  \n",
       "4             1          0           0       0  \n",
       "...         ...        ...         ...     ...  \n",
       "95403         0          1           0       0  \n",
       "95404         0          0           0       0  \n",
       "95405         0          0           0       0  \n",
       "95406         0          0           0       0  \n",
       "95407         0          0           0       0  \n",
       "\n",
       "[95408 rows x 36 columns]"
      ]
     },
     "execution_count": 3,
     "metadata": {},
     "output_type": "execute_result"
    }
   ],
   "source": [
    "fintec"
   ]
  },
  {
   "cell_type": "code",
   "execution_count": 4,
   "metadata": {},
   "outputs": [
    {
     "data": {
      "text/plain": [
       "0    85311\n",
       "1    10097\n",
       "Name: REPURCHASE, dtype: int64"
      ]
     },
     "execution_count": 4,
     "metadata": {},
     "output_type": "execute_result"
    }
   ],
   "source": [
    "fintec.REPURCHASE.value_counts()"
   ]
  },
  {
   "cell_type": "code",
   "execution_count": 5,
   "metadata": {},
   "outputs": [
    {
     "data": {
      "text/plain": [
       "Index(['DiagnosisCode_DESC', 'age  <25(300)', 'age  25-35(300-420)',\n",
       "       'age 35-45(420-540)', 'ICD10_Code_Type', 'ternure_m', 'recency_m',\n",
       "       'SIN', 'SIN_his', 'REG', 'REG_his', 'ILP', 'ILP_his', 'AHa', 'AHa_his',\n",
       "       'AHb', 'AHb_his', 'AHc', 'AHc_his', 'AHd', 'AHd_his', 'VIP',\n",
       "       'WEALTH_LEVEL', 'DIGI_FLG', 'TOPCARD', 'GENDER', 'stick_level2', 'AGE',\n",
       "       'cust_group2', '<10k', '10k-50k', '50k-100k', '100k-500k', '500k-1000k',\n",
       "       '>1000k'],\n",
       "      dtype='object')"
      ]
     },
     "execution_count": 5,
     "metadata": {},
     "output_type": "execute_result"
    }
   ],
   "source": [
    "fintec.columns[1 : 70]"
   ]
  },
  {
   "cell_type": "code",
   "execution_count": 6,
   "metadata": {},
   "outputs": [],
   "source": [
    "fin = fintec.to_numpy()"
   ]
  },
  {
   "cell_type": "code",
   "execution_count": 7,
   "metadata": {},
   "outputs": [],
   "source": [
    "X = fin[:,1:70]\n",
    "y = fin[:,0:1]\n",
    "names = fintec.columns[1 : 70]"
   ]
  },
  {
   "cell_type": "code",
   "execution_count": 8,
   "metadata": {},
   "outputs": [
    {
     "name": "stdout",
     "output_type": "stream",
     "text": [
      "(95408, 35)\n"
     ]
    }
   ],
   "source": [
    "print (X.shape)"
   ]
  },
  {
   "cell_type": "code",
   "execution_count": 9,
   "metadata": {},
   "outputs": [
    {
     "data": {
      "text/plain": [
       "array([[ 7,  1,  0, ...,  0,  0,  0],\n",
       "       [20,  1,  0, ...,  0,  0,  0],\n",
       "       [20,  1,  0, ...,  0,  0,  0],\n",
       "       ...,\n",
       "       [20,  1,  0, ...,  0,  0,  0],\n",
       "       [ 2,  0,  1, ...,  0,  0,  0],\n",
       "       [ 9,  1,  0, ...,  0,  0,  0]], dtype=int64)"
      ]
     },
     "execution_count": 9,
     "metadata": {},
     "output_type": "execute_result"
    }
   ],
   "source": [
    "X"
   ]
  },
  {
   "cell_type": "code",
   "execution_count": 10,
   "metadata": {},
   "outputs": [
    {
     "name": "stdout",
     "output_type": "stream",
     "text": [
      "(95408, 1)\n"
     ]
    }
   ],
   "source": [
    "print (y.shape)"
   ]
  },
  {
   "cell_type": "code",
   "execution_count": 11,
   "metadata": {},
   "outputs": [
    {
     "data": {
      "text/plain": [
       "array([[0],\n",
       "       [0],\n",
       "       [0],\n",
       "       ...,\n",
       "       [0],\n",
       "       [1],\n",
       "       [0]], dtype=int64)"
      ]
     },
     "execution_count": 11,
     "metadata": {},
     "output_type": "execute_result"
    }
   ],
   "source": [
    "y"
   ]
  },
  {
   "cell_type": "code",
   "execution_count": 12,
   "metadata": {},
   "outputs": [
    {
     "name": "stdout",
     "output_type": "stream",
     "text": [
      "(35,)\n"
     ]
    }
   ],
   "source": [
    "print (names.shape)"
   ]
  },
  {
   "cell_type": "code",
   "execution_count": 13,
   "metadata": {},
   "outputs": [
    {
     "data": {
      "text/plain": [
       "Index(['DiagnosisCode_DESC', 'age  <25(300)', 'age  25-35(300-420)',\n",
       "       'age 35-45(420-540)', 'ICD10_Code_Type', 'ternure_m', 'recency_m',\n",
       "       'SIN', 'SIN_his', 'REG', 'REG_his', 'ILP', 'ILP_his', 'AHa', 'AHa_his',\n",
       "       'AHb', 'AHb_his', 'AHc', 'AHc_his', 'AHd', 'AHd_his', 'VIP',\n",
       "       'WEALTH_LEVEL', 'DIGI_FLG', 'TOPCARD', 'GENDER', 'stick_level2', 'AGE',\n",
       "       'cust_group2', '<10k', '10k-50k', '50k-100k', '100k-500k', '500k-1000k',\n",
       "       '>1000k'],\n",
       "      dtype='object')"
      ]
     },
     "execution_count": 13,
     "metadata": {},
     "output_type": "execute_result"
    }
   ],
   "source": [
    "names\n"
   ]
  },
  {
   "cell_type": "code",
   "execution_count": 14,
   "metadata": {},
   "outputs": [],
   "source": [
    "X_train, X_test, y_train, y_test=train_test_split(X,y,test_size=0.3)"
   ]
  },
  {
   "cell_type": "code",
   "execution_count": 15,
   "metadata": {},
   "outputs": [
    {
     "data": {
      "text/plain": [
       "GridSearchCV(cv=2, estimator=RandomForestClassifier(), n_jobs=-1,\n",
       "             param_grid={'criterion': ['gini', 'entropy'], 'max_depth': [10],\n",
       "                         'max_features': ['auto', 'sqrt', 'log2'],\n",
       "                         'n_estimators': [100]})"
      ]
     },
     "execution_count": 15,
     "metadata": {},
     "output_type": "execute_result"
    }
   ],
   "source": [
    "rfc = RandomForestClassifier()\n",
    "parameters = {'n_estimators': [100], 'max_depth':[10], 'criterion' : [\"gini\", \"entropy\"] , 'max_features' :[\"auto\",\"sqrt\", \"log2\"]}\n",
    "grid_search = GridSearchCV(estimator=rfc, param_grid=parameters, cv= 2, n_jobs=-1)\n",
    "grid_search.fit(X_train,y_train.ravel())\n",
    "\n",
    "\n",
    "\n"
   ]
  },
  {
   "cell_type": "code",
   "execution_count": 16,
   "metadata": {},
   "outputs": [
    {
     "name": "stdout",
     "output_type": "stream",
     "text": [
      "n_estimators: 100\n",
      "max_depth: 10\n",
      "criterion: entropy\n",
      "max_features: sqrt\n",
      "Best score: 0.897\n"
     ]
    }
   ],
   "source": [
    "best_para1 = grid_search.best_params_['n_estimators']\n",
    "print('n_estimators:', best_para1)\n",
    "best_para2 = grid_search.best_params_['max_depth']\n",
    "print('max_depth:', best_para2)\n",
    "best_para3 = grid_search.best_params_['criterion']\n",
    "print('criterion:', best_para3)\n",
    "best_para4 = grid_search.best_params_['max_features']\n",
    "print('max_features:', best_para4)\n",
    "print(\"Best score: %0.3f\" % grid_search.best_score_)   \n"
   ]
  },
  {
   "cell_type": "code",
   "execution_count": 17,
   "metadata": {},
   "outputs": [
    {
     "name": "stdout",
     "output_type": "stream",
     "text": [
      "training score:  0.903062064834918\n",
      "testing score:  0.8949096880131363\n"
     ]
    }
   ],
   "source": [
    "rfc = RandomForestClassifier(n_estimators = best_para1 ,max_depth = best_para2, criterion = best_para3, max_features= best_para4)\n",
    "rfc.fit(X_train,y_train.ravel())\n",
    "y_predict = rfc.predict(X_test)\n",
    "print('training score: ',rfc.score(X_train,y_train.ravel()))\n",
    "print('testing score: ',rfc.score(X_test,y_test))"
   ]
  },
  {
   "cell_type": "code",
   "execution_count": 18,
   "metadata": {},
   "outputs": [],
   "source": [
    "feature_importances_ = {}\n",
    "_feat_labels = names\n",
    "_importances = rfc.feature_importances_"
   ]
  },
  {
   "cell_type": "code",
   "execution_count": 19,
   "metadata": {},
   "outputs": [],
   "source": [
    "indices = np.argsort(_importances)[::-1]"
   ]
  },
  {
   "cell_type": "code",
   "execution_count": 20,
   "metadata": {},
   "outputs": [],
   "source": [
    "for f in range(X.shape[1]):\n",
    "    feature_importances_.update({_feat_labels[indices[f]]:_importances[indices[f]]})"
   ]
  },
  {
   "cell_type": "code",
   "execution_count": 21,
   "metadata": {
    "scrolled": true
   },
   "outputs": [
    {
     "data": {
      "text/plain": [
       "{'stick_level2': 0.18626690530565868,\n",
       " 'recency_m': 0.17127147822305383,\n",
       " 'AGE': 0.11539475466330236,\n",
       " 'cust_group2': 0.0872779685081572,\n",
       " 'ternure_m': 0.06975101510440214,\n",
       " 'WEALTH_LEVEL': 0.06777348277783482,\n",
       " 'DiagnosisCode_DESC': 0.03114470000841709,\n",
       " 'SIN': 0.025765501992212975,\n",
       " 'ICD10_Code_Type': 0.025286047205795546,\n",
       " 'ILP': 0.022705310059801302,\n",
       " 'AHd_his': 0.019511162616085778,\n",
       " 'SIN_his': 0.01752527616705979,\n",
       " 'AHd': 0.01731368969289508,\n",
       " 'ILP_his': 0.015639329077170236,\n",
       " 'REG': 0.012663119433440688,\n",
       " 'REG_his': 0.01200155462483105,\n",
       " 'AHb_his': 0.01006524921414535,\n",
       " 'AHb': 0.009560110833425353,\n",
       " 'GENDER': 0.00894651760696353,\n",
       " 'VIP': 0.008900857287066386,\n",
       " 'DIGI_FLG': 0.00818265466215103,\n",
       " '<10k': 0.007140574734590341,\n",
       " '10k-50k': 0.007030325095213417,\n",
       " '50k-100k': 0.005465495449283464,\n",
       " 'AHc': 0.004941069873884454,\n",
       " '100k-500k': 0.004883753520542176,\n",
       " 'TOPCARD': 0.004581816544995355,\n",
       " 'AHa': 0.0044648494418683075,\n",
       " 'age  25-35(300-420)': 0.00405937322650321,\n",
       " 'AHc_his': 0.004051043664652823,\n",
       " 'age  <25(300)': 0.0037993602790604313,\n",
       " 'AHa_his': 0.0036463066666477272,\n",
       " '500k-1000k': 0.001993325494122661,\n",
       " '>1000k': 0.000904467922712398,\n",
       " 'age 35-45(420-540)': 9.155302205303794e-05}"
      ]
     },
     "execution_count": 21,
     "metadata": {},
     "output_type": "execute_result"
    }
   ],
   "source": [
    "feature_importances_"
   ]
  },
  {
   "cell_type": "code",
   "execution_count": 22,
   "metadata": {},
   "outputs": [],
   "source": [
    "np.set_printoptions(threshold= sys.maxsize)"
   ]
  },
  {
   "cell_type": "code",
   "execution_count": 23,
   "metadata": {},
   "outputs": [
    {
     "name": "stdout",
     "output_type": "stream",
     "text": [
      "(28623,)\n"
     ]
    }
   ],
   "source": [
    "print (y_predict.shape)"
   ]
  },
  {
   "cell_type": "code",
   "execution_count": 24,
   "metadata": {},
   "outputs": [],
   "source": [
    "y_test_re = y_test.reshape(-1)"
   ]
  },
  {
   "cell_type": "code",
   "execution_count": 25,
   "metadata": {},
   "outputs": [],
   "source": [
    "shoot_times=0\n",
    "shooted_num=0\n",
    "target=0"
   ]
  },
  {
   "cell_type": "code",
   "execution_count": 27,
   "metadata": {},
   "outputs": [],
   "source": [
    "for i in range (0,7095):\n",
    "    \n",
    "    if y_predict[i] == 1:\n",
    "     shoot_times = shoot_times + 1\n",
    "\n",
    "    if y_test_re[i] == y_predict[i] == 1:\n",
    "     shooted_num = shooted_num + 1\n",
    "    \n",
    "    if y_test_re[i] == 1:\n",
    "     target = target + 1"
   ]
  },
  {
   "cell_type": "code",
   "execution_count": 28,
   "metadata": {},
   "outputs": [
    {
     "name": "stdout",
     "output_type": "stream",
     "text": [
      "repurchase customer : 761\n",
      "predict repurchase customer : 69\n",
      "actuallyrepurchase customer : 36\n",
      "63.1578947368421 %\n",
      "4.8582995951417 %\n"
     ]
    }
   ],
   "source": [
    "print(\"repurchase customer :\",target)\n",
    "print(\"predict repurchase customer :\",shoot_times)\n",
    "print(\"actuallyrepurchase customer :\",shooted_num)\n",
    "print(180/285*100,'%')\n",
    "print((shooted_num/741)*100,'%')"
   ]
  },
  {
   "cell_type": "code",
   "execution_count": 29,
   "metadata": {},
   "outputs": [
    {
     "name": "stdout",
     "output_type": "stream",
     "text": [
      " 1) stick_level2                   0.186267\n",
      " 2) recency_m                      0.171271\n",
      " 3) AGE                            0.115395\n",
      " 4) cust_group2                    0.087278\n",
      " 5) ternure_m                      0.069751\n",
      " 6) WEALTH_LEVEL                   0.067773\n",
      " 7) DiagnosisCode_DESC             0.031145\n",
      " 8) SIN                            0.025766\n",
      " 9) ICD10_Code_Type                0.025286\n",
      "10) ILP                            0.022705\n",
      "11) AHd_his                        0.019511\n",
      "12) SIN_his                        0.017525\n",
      "13) AHd                            0.017314\n",
      "14) ILP_his                        0.015639\n",
      "15) REG                            0.012663\n",
      "16) REG_his                        0.012002\n",
      "17) AHb_his                        0.010065\n",
      "18) AHb                            0.009560\n",
      "19) GENDER                         0.008947\n",
      "20) VIP                            0.008901\n",
      "21) DIGI_FLG                       0.008183\n",
      "22) <10k                           0.007141\n",
      "23) 10k-50k                        0.007030\n",
      "24) 50k-100k                       0.005465\n",
      "25) AHc                            0.004941\n",
      "26) 100k-500k                      0.004884\n",
      "27) TOPCARD                        0.004582\n",
      "28) AHa                            0.004465\n",
      "29) age  25-35(300-420)            0.004059\n",
      "30) AHc_his                        0.004051\n",
      "31) age  <25(300)                  0.003799\n",
      "32) AHa_his                        0.003646\n",
      "33) 500k-1000k                     0.001993\n",
      "34) >1000k                         0.000904\n",
      "35) age 35-45(420-540)             0.000092\n"
     ]
    },
    {
     "data": {
      "image/png": "[encoded data removed]",
      "text/plain": [
       "<Figure size 432x288 with 1 Axes>"
      ]
     },
     "metadata": {},
     "output_type": "display_data"
    }
   ],
   "source": [
    "for f in range(X_train.shape[1]):\n",
    "    print(\"%2d) %-*s %f\" % (f + 1, 30, \n",
    "                            _feat_labels[indices[f]], \n",
    "                            _importances[indices[f]]))\n",
    "\n",
    "plt.figure()\n",
    "plt.title('Feature Importances')\n",
    "plt.bar(range(X_train.shape[1]),\n",
    "        _importances[indices],\n",
    "        align='center',\n",
    "        alpha=0.5)\n",
    "\n",
    "plt.xticks(range(X_train.shape[1]), \n",
    "           names[indices], rotation=90)\n",
    "plt.xlim([-1, X_train.shape[1]])\n",
    "plt.tight_layout()\n",
    "plt.savefig('fig-forest-feature-importances.png', dpi=300)\n",
    "plt.show()"
   ]
  },
  {
   "cell_type": "code",
   "execution_count": null,
   "metadata": {},
   "outputs": [],
   "source": []
  }
 ],
 "metadata": {
  "kernelspec": {
   "display_name": "Python 3",
   "language": "python",
   "name": "python3"
  },
  "language_info": {
   "codemirror_mode": {
    "name": "ipython",
    "version": 3
   },
   "file_extension": ".py",
   "mimetype": "text/x-python",
   "name": "python",
   "nbconvert_exporter": "python",
   "pygments_lexer": "ipython3",
   "version": "3.6.5"
  }
 },
 "nbformat": 4,
 "nbformat_minor": 4
}
