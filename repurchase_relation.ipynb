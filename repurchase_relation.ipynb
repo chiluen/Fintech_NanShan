{
 "cells": [
  {
   "cell_type": "code",
   "execution_count": 19,
   "metadata": {},
   "outputs": [],
   "source": [
    "import h5py\n",
    "import numpy as np\n",
    "from collections import defaultdict\n",
    "from tqdm import tqdm"
   ]
  },
  {
   "cell_type": "code",
   "execution_count": 2,
   "metadata": {},
   "outputs": [],
   "source": [
    "path = \"data/fintech.h5\"\n",
    "f = h5py.File(path, \"r\")\n",
    "CLAIM_ACCT = f['CLAIM_ACCT_FIN']\n",
    "COV_ACCT = f['COV_ACCT_FIN']"
   ]
  },
  {
   "cell_type": "markdown",
   "metadata": {},
   "source": [
    "### 把Policy_holder, Policy_RK, 時間最久的date抓出來"
   ]
  },
  {
   "cell_type": "code",
   "execution_count": 3,
   "metadata": {},
   "outputs": [],
   "source": [
    "#CLAIM ：(Policy_holder, Policy_RK, time)\n",
    "dic_CLAIM = defaultdict(list)\n",
    "for i in range(1, CLAIM_ACCT.shape[0]):\n",
    "    now_policy = CLAIM_ACCT[i][2]\n",
    "    now_holder = CLAIM_ACCT[i][10]\n",
    "    now_date = CLAIM_ACCT[i][7]\n",
    "    if dic_CLAIM[now_holder, now_policy] == []:\n",
    "        dic_CLAIM[now_holder, now_policy] = [float(now_date)]\n",
    "    else:\n",
    "        dic_CLAIM[now_holder, now_policy].append(float(now_date))\n",
    "        dic_CLAIM[now_holder, now_policy] = [min(dic_CLAIM[now_holder, now_policy])]"
   ]
  },
  {
   "cell_type": "code",
   "execution_count": 4,
   "metadata": {},
   "outputs": [],
   "source": [
    "#COV ：(Policy_holder, Policy_RK, time)\n",
    "dic_COV = defaultdict(list)\n",
    "\n",
    "for i in range(1, COV_ACCT.shape[0]):\n",
    "    now_policy = COV_ACCT[i][1]\n",
    "    now_holder = COV_ACCT[i][7]\n",
    "    now_date = COV_ACCT[i][4] #EFFECTIVE_DT\n",
    "    if dic_COV[now_holder, now_policy] == []:\n",
    "        dic_COV[now_holder, now_policy] = [float(now_date)]\n",
    "    else:\n",
    "        dic_COV[now_holder, now_policy].append(float(now_date))\n",
    "        dic_COV[now_holder, now_policy] = [min(dic_COV[now_holder, now_policy])]"
   ]
  },
  {
   "cell_type": "markdown",
   "metadata": {},
   "source": [
    "### 把兩邊的Policy_RK 依據時間串起來"
   ]
  },
  {
   "cell_type": "code",
   "execution_count": 13,
   "metadata": {},
   "outputs": [
    {
     "name": "stderr",
     "output_type": "stream",
     "text": [
      "100%|█████████▉| 74227/74246 [13:31<00:00, 84.46it/s] "
     ]
    }
   ],
   "source": [
    "compare_list_CLAIM = []\n",
    "compare_list_COV = []\n",
    "used_holder = \"\"\n",
    "COV_keys_list = list(dic_COV.keys())\n",
    "CLAIM_keys_list = list(dic_CLAIM.keys())\n",
    "relation = [] #(Policy_holder_RK, POLICY_CLAIM_RK, POLICY_COV_RK)\n",
    "pbar = tqdm(total=len(COV_keys_list[:-2]))\n",
    "for counter, data in enumerate(COV_keys_list[:-2]):\n",
    "    \n",
    "    #if counter % 100 == 0:\n",
    "    #    print('Finish ' + str(round(counter/len(COV_keys_list),2)))\n",
    "        \n",
    "    pbar.update(1)\n",
    "    \n",
    "    #讓同一個holder可以被濾掉\n",
    "    if data[0] == used_holder:\n",
    "        continue\n",
    "    \n",
    "    \n",
    "    used_holder = data[0] #目前正處理的policy_holder\n",
    "    for i in range(len(COV_keys_list)-2): #把同一個policy holder的所有資訊裝起來\n",
    "        if COV_keys_list[i][0] == used_holder:\n",
    "            temp = list(COV_keys_list[i])\n",
    "            temp.append(dic_COV[COV_keys_list[i]][0])\n",
    "            compare_list_COV.append( temp )\n",
    "    \n",
    "    for i in range(len(CLAIM_keys_list)-2):\n",
    "        if CLAIM_keys_list[i][0] == used_holder:\n",
    "            temp = list(CLAIM_keys_list[i])\n",
    "            temp.append(dic_CLAIM[CLAIM_keys_list[i]][0])\n",
    "            compare_list_CLAIM.append(temp)\n",
    "            \n",
    "    for d_COV in compare_list_COV: #去做對比\n",
    "        for d_CLAIM in compare_list_CLAIM:\n",
    "            if d_COV[2] > d_CLAIM[2]:\n",
    "                relation.append([d_COV[0], d_CLAIM[1], d_COV[1]])\n",
    "                \n",
    "    compare_list_CLAIM = [] \n",
    "    compare_list_COV = []\n",
    "    \n",
    "            \n",
    "        "
   ]
  },
  {
   "cell_type": "code",
   "execution_count": 30,
   "metadata": {},
   "outputs": [],
   "source": [
    "relation.insert(0,['Policy_holder_RK', 'POLICY_CLAIM_RK', 'POLICY_COV_RK'])\n",
    "relation = np.array(relation)\n",
    "dtype = h5py.special_dtype(vlen=str)\n",
    "with h5py.File('relation.h5','w') as f:\n",
    "    d = f.create_dataset('repurchase', relation.shape, dtype = dtype)\n",
    "    d[:] = relation"
   ]
  }
 ],
 "metadata": {
  "kernelspec": {
   "display_name": "Python 3",
   "language": "python",
   "name": "python3"
  },
  "language_info": {
   "codemirror_mode": {
    "name": "ipython",
    "version": 3
   },
   "file_extension": ".py",
   "mimetype": "text/x-python",
   "name": "python",
   "nbconvert_exporter": "python",
   "pygments_lexer": "ipython3",
   "version": "3.6.9"
  }
 },
 "nbformat": 4,
 "nbformat_minor": 4
}
