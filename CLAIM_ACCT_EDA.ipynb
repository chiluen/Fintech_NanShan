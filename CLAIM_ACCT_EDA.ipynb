{
 "cells": [
  {
   "cell_type": "code",
   "execution_count": 46,
   "metadata": {},
   "outputs": [],
   "source": [
    "import h5py\n",
    "import numpy\n",
    "import pandas as pd\n",
    "from collections import defaultdict\n",
    "import matplotlib.pyplot as plt"
   ]
  },
  {
   "cell_type": "code",
   "execution_count": 2,
   "metadata": {},
   "outputs": [],
   "source": [
    "path = \"data/fintech.h5\"\n",
    "f = h5py.File(path, \"r\")\n",
    "CLAIM_ACCT = f['CLAIM_ACCT_FIN']"
   ]
  },
  {
   "cell_type": "markdown",
   "metadata": {},
   "source": [
    "### 三種角色的重複比例"
   ]
  },
  {
   "cell_type": "code",
   "execution_count": 16,
   "metadata": {},
   "outputs": [
    {
     "name": "stdout",
     "output_type": "stream",
     "text": [
      "Same ratio 0.73\n",
      "Diff ratio 0.27\n"
     ]
    }
   ],
   "source": [
    "#檢查Injured_RK與Policy_Holder_RK的關係\n",
    "#index:0 Injured_RK, index:9 Insured_RK, index:10 Policy_holder_RK\n",
    "RK_same = 0\n",
    "RK_diff = 0\n",
    "\n",
    "for i in range(1,CLAIM_ACCT.shape[0]):\n",
    "    if CLAIM_ACCT[i][9] == CLAIM_ACCT[i][10]:\n",
    "        RK_same += 1\n",
    "    else:\n",
    "        RK_diff += 1\n",
    "print(\"Same ratio\", round(RK_same/(CLAIM_ACCT.shape[0]-1),2))\n",
    "print(\"Diff ratio\", round(RK_diff/(CLAIM_ACCT.shape[0]-1),2))"
   ]
  },
  {
   "cell_type": "code",
   "execution_count": 21,
   "metadata": {},
   "outputs": [
    {
     "data": {
      "text/html": [
       "<div>\n",
       "<style scoped>\n",
       "    .dataframe tbody tr th:only-of-type {\n",
       "        vertical-align: middle;\n",
       "    }\n",
       "\n",
       "    .dataframe tbody tr th {\n",
       "        vertical-align: top;\n",
       "    }\n",
       "\n",
       "    .dataframe thead th {\n",
       "        text-align: right;\n",
       "    }\n",
       "</style>\n",
       "<table border=\"1\" class=\"dataframe\">\n",
       "  <thead>\n",
       "    <tr style=\"text-align: right;\">\n",
       "      <th></th>\n",
       "      <th>事故人</th>\n",
       "      <th>被保人</th>\n",
       "      <th>要保人</th>\n",
       "    </tr>\n",
       "  </thead>\n",
       "  <tbody>\n",
       "    <tr>\n",
       "      <th>事故人</th>\n",
       "      <td>None</td>\n",
       "      <td>98.0</td>\n",
       "      <td>72.0</td>\n",
       "    </tr>\n",
       "    <tr>\n",
       "      <th>被保人</th>\n",
       "      <td>None</td>\n",
       "      <td>NaN</td>\n",
       "      <td>73.0</td>\n",
       "    </tr>\n",
       "    <tr>\n",
       "      <th>要保人</th>\n",
       "      <td>None</td>\n",
       "      <td>NaN</td>\n",
       "      <td>NaN</td>\n",
       "    </tr>\n",
       "  </tbody>\n",
       "</table>\n",
       "</div>"
      ],
      "text/plain": [
       "      事故人   被保人   要保人\n",
       "事故人  None  98.0  72.0\n",
       "被保人  None   NaN  73.0\n",
       "要保人  None   NaN   NaN"
      ]
     },
     "execution_count": 21,
     "metadata": {},
     "output_type": "execute_result"
    }
   ],
   "source": [
    "col = ['事故人', '被保人', '要保人']\n",
    "row = ['事故人', '被保人', '要保人']\n",
    "data = [[None, 98, 72],[None, None, 73],[None,None,None]]\n",
    "df = pd.DataFrame(data, index=row, columns =col)\n",
    "df\n",
    "\n",
    "##結論, 把被保人跟事故人取交集, 併成同一col"
   ]
  },
  {
   "cell_type": "markdown",
   "metadata": {},
   "source": [
    "### 理賠案件類型"
   ]
  },
  {
   "cell_type": "code",
   "execution_count": 61,
   "metadata": {},
   "outputs": [
    {
     "data": {
      "text/plain": [
       "<matplotlib.legend.Legend at 0x7fc99c3b60b8>"
      ]
     },
     "execution_count": 61,
     "metadata": {},
     "output_type": "execute_result"
    },
    {
     "data": {
      "image/png": "[encoded data removed]",
      "text/plain": [
       "<Figure size 432x648 with 1 Axes>"
      ]
     },
     "metadata": {},
     "output_type": "display_data"
    }
   ],
   "source": [
    "bundle_dict = defaultdict(int)\n",
    "for i in range(1,CLAIM_ACCT.shape[0]):\n",
    "    ill_type = CLAIM_ACCT[i][3][2]\n",
    "    bundle_dict[ill_type] += 1\n",
    "\n",
    "#plot\n",
    "plt.figure(figsize=(6,9))    \n",
    "\n",
    "labels = ['N', 'C', 'D', 'T', 'P']  #['疾病醫療', '重大疾病', '身故給付', '完全失能', '部份失能'] \n",
    "separeted = (0, 0, 0.3, 0, 0.3)                  \n",
    "bundle_data = [bundle_dict['N'],bundle_dict['C'],bundle_dict['D'],bundle_dict['T'],bundle_dict['P']]                         # 製作圓餅圖的數值來源\n",
    "\n",
    "plt.pie(bundle_data,                           \n",
    "        labels = labels,            \n",
    "        autopct = \"%1.1f%%\",            \n",
    "        explode = separeted,            \n",
    "        pctdistance = 0.6,              \n",
    "        textprops = {\"fontsize\" : 12},  \n",
    "        shadow=True)                    \n",
    " \n",
    "plt.axis('equal')                                          \n",
    "plt.title(\"Pie chart of accident type\", {\"fontsize\" : 18})  \n",
    "plt.legend(loc = \"best\")\n",
    "\n",
    "#結論：其實這個col並沒有太大意義"
   ]
  },
  {
   "cell_type": "markdown",
   "metadata": {},
   "source": [
    "### 一個人（可能是3type 其中之一）擁有多張保單的比例"
   ]
  },
  {
   "cell_type": "code",
   "execution_count": 75,
   "metadata": {},
   "outputs": [],
   "source": [
    "person_index_list = [0,9,10]\n",
    "duplicate_list = []\n",
    "for person_index in person_index_list:\n",
    "    Policy_dict = defaultdict(int)\n",
    "    num_people = 0\n",
    "    num_duplicate = 0\n",
    "    for i in range(1,CLAIM_ACCT.shape[0]):\n",
    "        if Policy_dict[CLAIM_ACCT[i][person_index]] == 0: #紀錄人\n",
    "            num_people += 1\n",
    "            Policy_dict[CLAIM_ACCT[i][person_index]] = CLAIM_ACCT[i][2] #policy_rk\n",
    "        elif Policy_dict[CLAIM_ACCT[i][person_index]] == -1: #已經確認有重複的\n",
    "            continue\n",
    "        else:\n",
    "            if Policy_dict[CLAIM_ACCT[i][person_index]] == CLAIM_ACCT[i][2]: #同一個號碼\n",
    "                continue\n",
    "            else:\n",
    "                Policy_dict[CLAIM_ACCT[i][person_index]] = -1 #標記重複\n",
    "                num_duplicate += 1\n",
    "    duplicate_list.append(round(num_duplicate/num_people,2))\n",
    "\n",
    "#結論：由於重複保單破10%, 並不是少數, 原本他們建議我們可以用自己的方式去merge同一個RK的人\n",
    "#但我認為不需要做這件事情, 第一是我們把每一個資料當做獨立的就好, 另外是在那麼多資料重複底下, 並不適合做merge"
   ]
  },
  {
   "cell_type": "code",
   "execution_count": 73,
   "metadata": {},
   "outputs": [
    {
     "data": {
      "text/html": [
       "<div>\n",
       "<style scoped>\n",
       "    .dataframe tbody tr th:only-of-type {\n",
       "        vertical-align: middle;\n",
       "    }\n",
       "\n",
       "    .dataframe tbody tr th {\n",
       "        vertical-align: top;\n",
       "    }\n",
       "\n",
       "    .dataframe thead th {\n",
       "        text-align: right;\n",
       "    }\n",
       "</style>\n",
       "<table border=\"1\" class=\"dataframe\">\n",
       "  <thead>\n",
       "    <tr style=\"text-align: right;\">\n",
       "      <th></th>\n",
       "      <th>事故人</th>\n",
       "      <th>被保人</th>\n",
       "      <th>要保人</th>\n",
       "    </tr>\n",
       "  </thead>\n",
       "  <tbody>\n",
       "    <tr>\n",
       "      <th>重複保單比例</th>\n",
       "      <td>0.11</td>\n",
       "      <td>0.11</td>\n",
       "      <td>0.12</td>\n",
       "    </tr>\n",
       "  </tbody>\n",
       "</table>\n",
       "</div>"
      ],
      "text/plain": [
       "         事故人   被保人   要保人\n",
       "重複保單比例  0.11  0.11  0.12"
      ]
     },
     "execution_count": 73,
     "metadata": {},
     "output_type": "execute_result"
    }
   ],
   "source": [
    "col = ['事故人', '被保人', '要保人']\n",
    "row = ['重複保單比例']\n",
    "data = [duplicate_list]\n",
    "df = pd.DataFrame(data, index=row, columns =col)\n",
    "df"
   ]
  }
 ],
 "metadata": {
  "kernelspec": {
   "display_name": "Python 3",
   "language": "python",
   "name": "python3"
  },
  "language_info": {
   "codemirror_mode": {
    "name": "ipython",
    "version": 3
   },
   "file_extension": ".py",
   "mimetype": "text/x-python",
   "name": "python",
   "nbconvert_exporter": "python",
   "pygments_lexer": "ipython3",
   "version": "3.6.9"
  }
 },
 "nbformat": 4,
 "nbformat_minor": 4
}
